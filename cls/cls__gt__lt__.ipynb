{
 "cells": [
  {
   "cell_type": "markdown",
   "id": "74ac0385",
   "metadata": {},
   "source": [
    "\\_\\_gt__ & \\_\\_lt__<br>\n",
    "透過此方法，實現 > 和<的功能<br>\n",
    "也可定義其他客製化方法"
   ]
  },
  {
   "cell_type": "code",
   "execution_count": 2,
   "id": "080d1622",
   "metadata": {},
   "outputs": [],
   "source": [
    "class Display_gt_lt_cls:\n",
    "    def __init__(self,name,age):\n",
    "        self.name = name\n",
    "        self.age = age\n",
    "    def __gt__(self, other):\n",
    "        return self.age > other.age\n",
    "    def __lt__(self, other):\n",
    "        return self.age < other.age"
   ]
  },
  {
   "cell_type": "code",
   "execution_count": 3,
   "id": "2d9e7ffb",
   "metadata": {},
   "outputs": [],
   "source": [
    "a = Display_gt_lt_cls('JACK',15)\n",
    "b = Display_gt_lt_cls('MAY',16)"
   ]
  },
  {
   "cell_type": "code",
   "execution_count": 4,
   "id": "a6251c1e",
   "metadata": {},
   "outputs": [
    {
     "data": {
      "text/plain": [
       "False"
      ]
     },
     "execution_count": 4,
     "metadata": {},
     "output_type": "execute_result"
    }
   ],
   "source": [
    "a>b"
   ]
  },
  {
   "cell_type": "code",
   "execution_count": 9,
   "id": "17251c17",
   "metadata": {},
   "outputs": [],
   "source": [
    "# 仿照airflow營造出data pipeline flow的操作感\n",
    "class Airflow_imitation:\n",
    "    def __init__(self, job_name):\n",
    "        self.job_name = job_name\n",
    "    \n",
    "    def _run(self):\n",
    "        print(f\"{self.job_name} start running\")\n",
    "    def __gt__(self, other):\n",
    "        self._run()\n",
    "        other._run()"
   ]
  },
  {
   "cell_type": "code",
   "execution_count": 10,
   "id": "c9627ae2",
   "metadata": {},
   "outputs": [],
   "source": [
    "a = Airflow_imitation('JOB_A')\n",
    "b = Airflow_imitation('JOB_B')"
   ]
  },
  {
   "cell_type": "code",
   "execution_count": 11,
   "id": "1615c83c",
   "metadata": {},
   "outputs": [
    {
     "name": "stdout",
     "output_type": "stream",
     "text": [
      "JOB_A start running\n",
      "JOB_B start running\n"
     ]
    }
   ],
   "source": [
    "a>b"
   ]
  },
  {
   "cell_type": "code",
   "execution_count": null,
   "id": "32f995b0",
   "metadata": {},
   "outputs": [],
   "source": []
  }
 ],
 "metadata": {
  "kernelspec": {
   "display_name": "Python 3",
   "language": "python",
   "name": "python3"
  },
  "language_info": {
   "codemirror_mode": {
    "name": "ipython",
    "version": 3
   },
   "file_extension": ".py",
   "mimetype": "text/x-python",
   "name": "python",
   "nbconvert_exporter": "python",
   "pygments_lexer": "ipython3",
   "version": "3.8.8"
  }
 },
 "nbformat": 4,
 "nbformat_minor": 5
}
