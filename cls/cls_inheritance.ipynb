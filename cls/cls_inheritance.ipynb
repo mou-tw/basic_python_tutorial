{
 "cells": [
  {
   "cell_type": "code",
   "execution_count": 1,
   "id": "5d2380aa",
   "metadata": {},
   "outputs": [],
   "source": [
    "class Hero:\n",
    "    def __init__(self,hp,atk):\n",
    "        self.hp = hp\n",
    "        self.atk = atk\n",
    "    def eat(self):\n",
    "        self.hp += 20\n",
    "        print('murrrrrr')\n",
    "class MaleHero(Hero):\n",
    "    def __init__(self,name,hp,atk):\n",
    "        super().__init__(hp,atk)   #python3 新式類可使用\n",
    "        self.name =name\n",
    "    def eat(self):\n",
    "        Hero.eat()\n",
    "        if self.mussle > 0:\n",
    "            self.mussle +=2\n",
    "        else:\n",
    "            self.mussle =2\n",
    "    def attack(self,name):\n",
    "        name.hp -= self.atk\n",
    "\n",
    "class FemaleHero(Hero):\n",
    "    def __init__(self,name,hp,atk,):\n",
    "        super().__init__(hp,atk)\n",
    "        self.name =name  #派生屬性\n",
    "    def eat(self):     #派生方法\n",
    "        Hero.eat()\n",
    "        if self.hair > 0:\n",
    "            self.hair +=2\n",
    "        else:\n",
    "            self.hair =2\n",
    "    def get_weapon(self,weapon):\n",
    "        self.weapon =weapon\n",
    "        self.atk += weapon.attack\n",
    "    def attack(self,name):\n",
    "        name.hp -= self.atk\n",
    "    def speak_lot(self):\n",
    "        print('{}murrrrrrrrrrrrrrrrrrrr'.format(self.name))\n",
    "\n",
    "class Weapon:\n",
    "    def __init__(self,name,attack,price):\n",
    "        self.name = name\n",
    "        self.attack = attack\n",
    "        self.price = price\n",
    "    def weapon_attack(self,person):\n",
    "        person.hp -= (self.attack *2)"
   ]
  },
  {
   "cell_type": "code",
   "execution_count": 4,
   "id": "a588d924",
   "metadata": {},
   "outputs": [
    {
     "name": "stdout",
     "output_type": "stream",
     "text": [
      "110\n",
      "130\n",
      "{'hp': 130, 'atk': 40, 'name': 'JACKKKKK'}\n",
      "90\n"
     ]
    }
   ],
   "source": [
    "Jack = MaleHero('JACKKKKK',200,40)\n",
    "Mary = FemaleHero('Maryyyyy',150,50)\n",
    "sword = Weapon('Big Sword',20,100)\n",
    "Mary.get_weapon(sword)\n",
    "\n",
    "Jack.attack(Mary)\n",
    "print(Mary.hp)\n",
    "Mary.attack(Jack)\n",
    "print(Jack.hp)\n",
    "print(Jack.__dict__)\n",
    "Mary.weapon.weapon_attack(Jack)\n",
    "print(Jack.hp)\n",
    "\n"
   ]
  },
  {
   "cell_type": "code",
   "execution_count": 5,
   "id": "51417772",
   "metadata": {},
   "outputs": [
    {
     "name": "stdout",
     "output_type": "stream",
     "text": [
      "murrrrrr\n"
     ]
    }
   ],
   "source": [
    "super(FemaleHero,Mary).eat()  #使用super 調用父類的方法"
   ]
  },
  {
   "cell_type": "code",
   "execution_count": null,
   "id": "fbcd4790",
   "metadata": {},
   "outputs": [],
   "source": []
  }
 ],
 "metadata": {
  "kernelspec": {
   "display_name": "Python 3",
   "language": "python",
   "name": "python3"
  },
  "language_info": {
   "codemirror_mode": {
    "name": "ipython",
    "version": 3
   },
   "file_extension": ".py",
   "mimetype": "text/x-python",
   "name": "python",
   "nbconvert_exporter": "python",
   "pygments_lexer": "ipython3",
   "version": "3.8.8"
  }
 },
 "nbformat": 4,
 "nbformat_minor": 5
}
