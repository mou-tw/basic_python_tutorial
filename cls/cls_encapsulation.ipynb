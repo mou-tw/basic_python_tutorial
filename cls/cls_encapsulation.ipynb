{
 "cells": [
  {
   "cell_type": "markdown",
   "id": "a9430ec1",
   "metadata": {},
   "source": [
    "[封裝]把屬性和方法都隱藏起來，讓他人無法調用\n",
    "使用__ 表示私有的屬性或者方法"
   ]
  },
  {
   "cell_type": "code",
   "execution_count": 8,
   "id": "19b09072",
   "metadata": {},
   "outputs": [],
   "source": [
    "class Person:\n",
    "    __key = str(1253456)  #靜態私有屬性，只能給class內部使用\n",
    "    def __init__(self,name ,passwd):\n",
    "        self.name = name\n",
    "        self.__passwd =passwd + self.__key     #私有屬性\n",
    "    def __murmur(self):             #私有方法，只能在類內部調用\n",
    "        print('{}murmurmurmur'.format(self.name))\n",
    "    def speak(self):\n",
    "        self.__murmur()"
   ]
  },
  {
   "cell_type": "code",
   "execution_count": 9,
   "id": "ef9f3d75",
   "metadata": {},
   "outputs": [
    {
     "name": "stdout",
     "output_type": "stream",
     "text": [
      "{'name': 'Jackkkkk', '_Person__passwd': 'jacky09221253456'}\n",
      "['name', '_Person__passwd', '__module__', '_Person__key', '__init__', '_Person__murmur', 'speak', '__dict__', '__weakref__', '__doc__', '__repr__', '__hash__', '__str__', '__getattribute__', '__setattr__', '__delattr__', '__lt__', '__le__', '__eq__', '__ne__', '__gt__', '__ge__', '__new__', '__reduce_ex__', '__reduce__', '__subclasshook__', '__init_subclass__', '__format__', '__sizeof__', '__dir__', '__class__']\n",
      "1253456\n",
      "Jackkkkkmurmurmurmur\n"
     ]
    }
   ],
   "source": [
    "Jack = Person('Jackkkkk','jacky0922')\n",
    "print(Jack.__dict__)\n",
    "print(Jack.__dir__())\n",
    "print(Jack._Person__key)\n",
    "Jack.speak()"
   ]
  },
  {
   "cell_type": "markdown",
   "id": "d1bb26f0",
   "metadata": {},
   "source": [
    "事實上封裝並無法完全隱藏起來，仍然可以用特殊方法調用"
   ]
  },
  {
   "cell_type": "code",
   "execution_count": 10,
   "id": "2858260b",
   "metadata": {
    "scrolled": true
   },
   "outputs": [
    {
     "data": {
      "text/plain": [
       "'jacky09221253456'"
      ]
     },
     "execution_count": 10,
     "metadata": {},
     "output_type": "execute_result"
    }
   ],
   "source": [
    "Jack._Person__passwd"
   ]
  },
  {
   "cell_type": "code",
   "execution_count": 11,
   "id": "91103b83",
   "metadata": {},
   "outputs": [
    {
     "data": {
      "text/plain": [
       "'1253456'"
      ]
     },
     "execution_count": 11,
     "metadata": {},
     "output_type": "execute_result"
    }
   ],
   "source": [
    "Jack._Person__key"
   ]
  },
  {
   "cell_type": "code",
   "execution_count": null,
   "id": "5803ed44",
   "metadata": {},
   "outputs": [],
   "source": []
  }
 ],
 "metadata": {
  "kernelspec": {
   "display_name": "Python 3",
   "language": "python",
   "name": "python3"
  },
  "language_info": {
   "codemirror_mode": {
    "name": "ipython",
    "version": 3
   },
   "file_extension": ".py",
   "mimetype": "text/x-python",
   "name": "python",
   "nbconvert_exporter": "python",
   "pygments_lexer": "ipython3",
   "version": "3.8.8"
  }
 },
 "nbformat": 4,
 "nbformat_minor": 5
}
