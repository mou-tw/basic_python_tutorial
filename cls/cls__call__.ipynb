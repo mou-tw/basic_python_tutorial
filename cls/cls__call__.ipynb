{
 "cells": [
  {
   "cell_type": "markdown",
   "id": "89627bbc",
   "metadata": {},
   "source": [
    "\\_\\_call__可呼叫函數<br>\n",
    "當一個對象加上()即實行該方法<br>"
   ]
  },
  {
   "cell_type": "code",
   "execution_count": 15,
   "id": "cd238c0d",
   "metadata": {},
   "outputs": [],
   "source": [
    "import sys\n",
    "class Display_call_cls():\n",
    "    def __call__(self):\n",
    "        print(\"cls call\")\n",
    "\n",
    "class Display_call_cls_a():\n",
    "    def __call__(self):\n",
    "        print(\"clsa call\")\n",
    "        return Display_call_cls()\n"
   ]
  },
  {
   "cell_type": "code",
   "execution_count": 16,
   "id": "5b4b0cdd",
   "metadata": {},
   "outputs": [
    {
     "name": "stdout",
     "output_type": "stream",
     "text": [
      "clsa call\n",
      "cls call\n"
     ]
    }
   ],
   "source": [
    "# an implement way of the framework design \n",
    "cls = Display_call_cls_a()\n",
    "cls()()\n"
   ]
  },
  {
   "cell_type": "code",
   "execution_count": null,
   "id": "edc730b3",
   "metadata": {},
   "outputs": [],
   "source": []
  }
 ],
 "metadata": {
  "kernelspec": {
   "display_name": "Python 3",
   "language": "python",
   "name": "python3"
  },
  "language_info": {
   "codemirror_mode": {
    "name": "ipython",
    "version": 3
   },
   "file_extension": ".py",
   "mimetype": "text/x-python",
   "name": "python",
   "nbconvert_exporter": "python",
   "pygments_lexer": "ipython3",
   "version": "3.8.8"
  }
 },
 "nbformat": 4,
 "nbformat_minor": 5
}
