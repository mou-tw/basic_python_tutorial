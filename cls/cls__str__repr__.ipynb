{
 "cells": [
  {
   "cell_type": "markdown",
   "id": "7b470640",
   "metadata": {},
   "source": [
    "\\_\\_str__ & \\_\\_repr__<br>\n",
    "當在python 中調用print(),str(),.format時，即在調用\\_\\_str__函數，並執行內部的命令<br>\n",
    "如該class中沒有設置\\_\\_str__變量，當請求時會向該calss的物件求取\\_\\_str__函數，取得一個記憶體地址<br>\n",
    "當沒有設置\\_\\_str__時，\\_\\_repr__可替代其使用，亦可使用repr()使用之<br><br>\n",
    "\\_\\_str__呼喚順序:<br>\n",
    "1.自己的str 2.自己的repr 3.父輩的str<br>\n",
    "repr的呼喚順序:<br>\n",
    "1.自己的repr 2.父輩的repr<br><br>\n",
    "\n",
    "\\_\\_del__ 刪除函數<br>\n",
    "當刪除時調用<br>\n",
    "但變量超過一定量，python intepreter會自動執行篩除的函數功能<br><br>\n",
    "\\_\\_call__可呼叫函數<br>\n",
    "當一個對象加上()即實行該方法<br>"
   ]
  },
  {
   "cell_type": "code",
   "execution_count": 1,
   "id": "0597a962",
   "metadata": {},
   "outputs": [],
   "source": [
    "class Display_cls_A(object):\n",
    "    def __str__(self):\n",
    "        return \"it's class A\"\n",
    "    def __repr__(self):\n",
    "        return \"it's class A from __repr__\"\n",
    "class Display_cls_B(object):\n",
    "    pass\n",
    "\n",
    "class Display_cls_C(object):\n",
    "    def __repr__(self):\n",
    "        return \"it's class c from __repr__\"\n",
    "class Display_cls_D(Display_cls_C):   \n",
    "    pass"
   ]
  },
  {
   "cell_type": "code",
   "execution_count": 2,
   "id": "7d4f9785",
   "metadata": {},
   "outputs": [],
   "source": [
    "a = Display_cls_A()\n",
    "b = Display_cls_B()\n",
    "c = Display_cls_C()\n",
    "d = Display_cls_D()"
   ]
  },
  {
   "cell_type": "code",
   "execution_count": 3,
   "id": "f910c210",
   "metadata": {},
   "outputs": [
    {
     "data": {
      "text/plain": [
       "it's class A from __repr__"
      ]
     },
     "execution_count": 3,
     "metadata": {},
     "output_type": "execute_result"
    }
   ],
   "source": [
    "a"
   ]
  },
  {
   "cell_type": "code",
   "execution_count": 4,
   "id": "a6e832c0",
   "metadata": {},
   "outputs": [
    {
     "name": "stdout",
     "output_type": "stream",
     "text": [
      "it's class A\n"
     ]
    }
   ],
   "source": [
    "#euqual to print(str(a))\n",
    "print(a)"
   ]
  },
  {
   "cell_type": "code",
   "execution_count": 5,
   "id": "7e507ad3",
   "metadata": {},
   "outputs": [
    {
     "data": {
      "text/plain": [
       "\"it's class A\""
      ]
     },
     "execution_count": 5,
     "metadata": {},
     "output_type": "execute_result"
    }
   ],
   "source": [
    "str(a)"
   ]
  },
  {
   "cell_type": "code",
   "execution_count": 6,
   "id": "4a523c7d",
   "metadata": {
    "scrolled": false
   },
   "outputs": [
    {
     "name": "stdout",
     "output_type": "stream",
     "text": [
      "<__main__.Display_cls_B object at 0x0000024527CB9850>\n"
     ]
    }
   ],
   "source": [
    "# return a memory address due to without setting the __str__ function\n",
    "print(b)"
   ]
  },
  {
   "cell_type": "code",
   "execution_count": 7,
   "id": "93c6f7d6",
   "metadata": {},
   "outputs": [
    {
     "data": {
      "text/plain": [
       "it's class c from __repr__"
      ]
     },
     "execution_count": 7,
     "metadata": {},
     "output_type": "execute_result"
    }
   ],
   "source": [
    "c"
   ]
  },
  {
   "cell_type": "code",
   "execution_count": 8,
   "id": "5f30c2bd",
   "metadata": {},
   "outputs": [
    {
     "name": "stdout",
     "output_type": "stream",
     "text": [
      "it's class c from __repr__\n"
     ]
    }
   ],
   "source": [
    "print(c)"
   ]
  },
  {
   "cell_type": "code",
   "execution_count": 9,
   "id": "be84a66f",
   "metadata": {},
   "outputs": [
    {
     "data": {
      "text/plain": [
       "it's class c from __repr__"
      ]
     },
     "execution_count": 9,
     "metadata": {},
     "output_type": "execute_result"
    }
   ],
   "source": [
    "d"
   ]
  },
  {
   "cell_type": "code",
   "execution_count": 10,
   "id": "0f73c1cf",
   "metadata": {},
   "outputs": [
    {
     "name": "stdout",
     "output_type": "stream",
     "text": [
      "it's class c from __repr__\n"
     ]
    }
   ],
   "source": [
    "print(d)"
   ]
  },
  {
   "cell_type": "code",
   "execution_count": null,
   "id": "c42b2078",
   "metadata": {},
   "outputs": [],
   "source": []
  }
 ],
 "metadata": {
  "kernelspec": {
   "display_name": "Python 3",
   "language": "python",
   "name": "python3"
  },
  "language_info": {
   "codemirror_mode": {
    "name": "ipython",
    "version": 3
   },
   "file_extension": ".py",
   "mimetype": "text/x-python",
   "name": "python",
   "nbconvert_exporter": "python",
   "pygments_lexer": "ipython3",
   "version": "3.8.8"
  }
 },
 "nbformat": 4,
 "nbformat_minor": 5
}
