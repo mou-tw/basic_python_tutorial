{
 "cells": [
  {
   "cell_type": "markdown",
   "id": "68f6f47d",
   "metadata": {},
   "source": [
    "\\_\\_new__<br>\n",
    "當class被初始化(initialize)時，使用的是\\_\\_init__ function<br>\n",
    "而創建本身是\\_\\_new__方法<br>\n",
    "此方法可用於singleton design pattern 的實現<br>"
   ]
  },
  {
   "cell_type": "code",
   "execution_count": 8,
   "id": "4530ca50",
   "metadata": {},
   "outputs": [],
   "source": [
    "class Display_new_cls(object):\n",
    "    __instance = False\n",
    "    def __init__(self,name ,age):\n",
    "        self.name =name\n",
    "        self.age = age\n",
    "    def __new__(cls, *args, **kwargs):\n",
    "        if cls.__instance :\n",
    "            return cls.__instance\n",
    "        cls.__instance = object.__new__(Display_new_cls)\n",
    "        return cls.__instance"
   ]
  },
  {
   "cell_type": "code",
   "execution_count": 9,
   "id": "975f65ec",
   "metadata": {},
   "outputs": [
    {
     "name": "stdout",
     "output_type": "stream",
     "text": [
      "<__main__.Display_new_cls object at 0x000002AEB7359FD0>\n",
      "JACK\n",
      "{'name': 'JACK', 'age': 31}\n"
     ]
    }
   ],
   "source": [
    "aa = Display_new_cls('JACK',31)\n",
    "print(aa)\n",
    "print(aa.name)\n",
    "print(aa.__dict__)"
   ]
  },
  {
   "cell_type": "code",
   "execution_count": 14,
   "id": "2dd3d933",
   "metadata": {},
   "outputs": [
    {
     "name": "stdout",
     "output_type": "stream",
     "text": [
      "<__main__.Display_new_cls object at 0x000002AEB7359FD0>\n",
      "AMY\n",
      "15\n",
      "<__main__.Display_new_cls object at 0x000002AEB7359FD0>\n",
      "David\n",
      "31\n",
      ">>>>>2949421309904\n",
      ">>>>>2949421309904\n",
      ">>>>>2949421309904\n"
     ]
    }
   ],
   "source": [
    "aa2 = Display_new_cls('AMY',15)\n",
    "print(aa2)\n",
    "print(aa2.name)\n",
    "print(aa2.age)\n",
    "aa3 = Display_new_cls('David',31)\n",
    "print(aa2)\n",
    "print(aa2.name)\n",
    "print(aa2.age)\n",
    "print('>>>>>'+str(id(aa)))\n",
    "print('>>>>>'+str(id(aa2)))\n",
    "print('>>>>>'+str(id(aa3)))\n"
   ]
  },
  {
   "cell_type": "code",
   "execution_count": null,
   "id": "4fe8becc",
   "metadata": {},
   "outputs": [],
   "source": []
  }
 ],
 "metadata": {
  "kernelspec": {
   "display_name": "Python 3",
   "language": "python",
   "name": "python3"
  },
  "language_info": {
   "codemirror_mode": {
    "name": "ipython",
    "version": 3
   },
   "file_extension": ".py",
   "mimetype": "text/x-python",
   "name": "python",
   "nbconvert_exporter": "python",
   "pygments_lexer": "ipython3",
   "version": "3.8.8"
  }
 },
 "nbformat": 4,
 "nbformat_minor": 5
}
