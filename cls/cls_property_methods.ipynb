{
 "cells": [
  {
   "cell_type": "markdown",
   "id": "43493c90",
   "metadata": {},
   "source": [
    "@property(屬性方法)基礎功能為將class 函數偽裝成一個屬性"
   ]
  },
  {
   "cell_type": "code",
   "execution_count": 14,
   "id": "ae37bd12",
   "metadata": {},
   "outputs": [],
   "source": [
    "from math import pi\n",
    "class Circle :\n",
    "    def __init__(self,r):\n",
    "        self.r = r\n",
    "        self.__color = 'red'\n",
    "    @property\n",
    "    def perimeter(self):\n",
    "        return 2 *pi*self.r\n",
    "    @property\n",
    "    def color(self):\n",
    "        return self.__color\n",
    "    @property\n",
    "    def area(self):\n",
    "        return self.r**2*pi\n",
    "    \n",
    "    @color.setter\n",
    "    def color(self,newcolor):\n",
    "        self.__color =newcolor\n",
    "    @color.deleter\n",
    "    def color(self):\n",
    "        del self.__color"
   ]
  },
  {
   "cell_type": "code",
   "execution_count": 15,
   "id": "84bc60e7",
   "metadata": {},
   "outputs": [
    {
     "name": "stdout",
     "output_type": "stream",
     "text": [
      "78.53981633974483\n",
      "31.41592653589793\n"
     ]
    }
   ],
   "source": [
    "circle1 =Circle(5)\n",
    "print(circle1.area)\n",
    "print(circle1.perimeter)"
   ]
  },
  {
   "cell_type": "code",
   "execution_count": 16,
   "id": "80951eda",
   "metadata": {},
   "outputs": [
    {
     "data": {
      "text/plain": [
       "'red'"
      ]
     },
     "execution_count": 16,
     "metadata": {},
     "output_type": "execute_result"
    }
   ],
   "source": [
    "circle1.color"
   ]
  },
  {
   "cell_type": "code",
   "execution_count": 17,
   "id": "8ca9fd14",
   "metadata": {},
   "outputs": [],
   "source": [
    "circle1.color = 'blue'"
   ]
  },
  {
   "cell_type": "code",
   "execution_count": 18,
   "id": "67d0e64a",
   "metadata": {
    "scrolled": true
   },
   "outputs": [
    {
     "data": {
      "text/plain": [
       "'blue'"
      ]
     },
     "execution_count": 18,
     "metadata": {},
     "output_type": "execute_result"
    }
   ],
   "source": [
    "circle1.color"
   ]
  },
  {
   "cell_type": "code",
   "execution_count": 19,
   "id": "c42b51ff",
   "metadata": {},
   "outputs": [],
   "source": [
    "del circle1.color"
   ]
  },
  {
   "cell_type": "code",
   "execution_count": 20,
   "id": "17981f9c",
   "metadata": {},
   "outputs": [
    {
     "ename": "AttributeError",
     "evalue": "'Circle' object has no attribute '_Circle__color'",
     "output_type": "error",
     "traceback": [
      "\u001b[1;31m---------------------------------------------------------------------------\u001b[0m",
      "\u001b[1;31mAttributeError\u001b[0m                            Traceback (most recent call last)",
      "\u001b[1;32m<ipython-input-20-8da11acf6a11>\u001b[0m in \u001b[0;36m<module>\u001b[1;34m\u001b[0m\n\u001b[1;32m----> 1\u001b[1;33m \u001b[0mcircle1\u001b[0m\u001b[1;33m.\u001b[0m\u001b[0mcolor\u001b[0m\u001b[1;33m\u001b[0m\u001b[1;33m\u001b[0m\u001b[0m\n\u001b[0m",
      "\u001b[1;32m<ipython-input-14-8e948887d145>\u001b[0m in \u001b[0;36mcolor\u001b[1;34m(self)\u001b[0m\n\u001b[0;32m      9\u001b[0m     \u001b[1;33m@\u001b[0m\u001b[0mproperty\u001b[0m\u001b[1;33m\u001b[0m\u001b[1;33m\u001b[0m\u001b[0m\n\u001b[0;32m     10\u001b[0m     \u001b[1;32mdef\u001b[0m \u001b[0mcolor\u001b[0m\u001b[1;33m(\u001b[0m\u001b[0mself\u001b[0m\u001b[1;33m)\u001b[0m\u001b[1;33m:\u001b[0m\u001b[1;33m\u001b[0m\u001b[1;33m\u001b[0m\u001b[0m\n\u001b[1;32m---> 11\u001b[1;33m         \u001b[1;32mreturn\u001b[0m \u001b[0mself\u001b[0m\u001b[1;33m.\u001b[0m\u001b[0m__color\u001b[0m\u001b[1;33m\u001b[0m\u001b[1;33m\u001b[0m\u001b[0m\n\u001b[0m\u001b[0;32m     12\u001b[0m     \u001b[1;33m@\u001b[0m\u001b[0mproperty\u001b[0m\u001b[1;33m\u001b[0m\u001b[1;33m\u001b[0m\u001b[0m\n\u001b[0;32m     13\u001b[0m     \u001b[1;32mdef\u001b[0m \u001b[0marea\u001b[0m\u001b[1;33m(\u001b[0m\u001b[0mself\u001b[0m\u001b[1;33m)\u001b[0m\u001b[1;33m:\u001b[0m\u001b[1;33m\u001b[0m\u001b[1;33m\u001b[0m\u001b[0m\n",
      "\u001b[1;31mAttributeError\u001b[0m: 'Circle' object has no attribute '_Circle__color'"
     ]
    }
   ],
   "source": [
    "circle1.color"
   ]
  },
  {
   "cell_type": "markdown",
   "id": "67d80da0",
   "metadata": {},
   "source": [
    "@classmethod (類方法)實現修改類固定屬性的功能"
   ]
  },
  {
   "cell_type": "code",
   "execution_count": 21,
   "id": "03280332",
   "metadata": {},
   "outputs": [],
   "source": [
    "class Product:\n",
    "    __discount =0.7\n",
    "    def __init__(self,price):\n",
    "        self.__price =price\n",
    "    def get_price(self):\n",
    "        return self.__price*self.__discount\n",
    "    @classmethod\n",
    "    def change_discount(cls,new_discount):\n",
    "        cls.__discount = new_discount\n"
   ]
  },
  {
   "cell_type": "code",
   "execution_count": 22,
   "id": "f4ca9398",
   "metadata": {},
   "outputs": [
    {
     "name": "stdout",
     "output_type": "stream",
     "text": [
      "28.0\n",
      "36.0\n"
     ]
    }
   ],
   "source": [
    "apple = Product(40)\n",
    "print(apple.get_price())\n",
    "Product.change_discount(0.9)\n",
    "print(apple.get_price())"
   ]
  },
  {
   "cell_type": "markdown",
   "id": "c8a9bfc6",
   "metadata": {},
   "source": [
    "@staticmethod 如果一個函數和class 或object都沒有關係，就用之將轉換為靜態方法"
   ]
  },
  {
   "cell_type": "code",
   "execution_count": 38,
   "id": "64a72264",
   "metadata": {},
   "outputs": [],
   "source": [
    "class Order():\n",
    "    __ord_lst = []\n",
    "    def __init__(self, name):\n",
    "        self.__ord_lst.append(name)\n",
    "    @staticmethod\n",
    "    def get_order_list():\n",
    "        return Order.__ord_lst"
   ]
  },
  {
   "cell_type": "code",
   "execution_count": 39,
   "id": "eddb0eb5",
   "metadata": {},
   "outputs": [],
   "source": [
    "a = Order('beef')\n",
    "b = Order('milk')\n",
    "c = Order('chicken')"
   ]
  },
  {
   "cell_type": "code",
   "execution_count": 41,
   "id": "f1fa35aa",
   "metadata": {},
   "outputs": [
    {
     "data": {
      "text/plain": [
       "['beef', 'milk', 'chicken']"
      ]
     },
     "execution_count": 41,
     "metadata": {},
     "output_type": "execute_result"
    }
   ],
   "source": [
    "Order.get_order_list()"
   ]
  },
  {
   "cell_type": "code",
   "execution_count": null,
   "id": "5c04416d",
   "metadata": {},
   "outputs": [],
   "source": []
  }
 ],
 "metadata": {
  "kernelspec": {
   "display_name": "Python 3",
   "language": "python",
   "name": "python3"
  },
  "language_info": {
   "codemirror_mode": {
    "name": "ipython",
    "version": 3
   },
   "file_extension": ".py",
   "mimetype": "text/x-python",
   "name": "python",
   "nbconvert_exporter": "python",
   "pygments_lexer": "ipython3",
   "version": "3.8.8"
  }
 },
 "nbformat": 4,
 "nbformat_minor": 5
}
