{
 "cells": [
  {
   "cell_type": "markdown",
   "id": "c6fb1ef1",
   "metadata": {},
   "source": [
    "\\_\\_getitem__ & \\_\\_setitem__ :字典以及list倚靠此函數完成，靠[]觸發<br>\n",
    "\\_\\_delitem__ :刪除一對象的屬性<br>"
   ]
  },
  {
   "cell_type": "code",
   "execution_count": 2,
   "id": "5c596e4d",
   "metadata": {},
   "outputs": [],
   "source": [
    "class Display_item_funcs_cls():\n",
    "    def __init__(self,name,age):\n",
    "        self.name = name\n",
    "        self.age = age\n",
    "    def __getitem__(self, item):\n",
    "        return self.__dict__[item]\n",
    "    def __setitem__(self, key, value):\n",
    "         self.__dict__[key]= value\n",
    "    def __delitem__(self, key):\n",
    "        del self.__dict__[key]"
   ]
  },
  {
   "cell_type": "code",
   "execution_count": 3,
   "id": "0269e76e",
   "metadata": {},
   "outputs": [],
   "source": [
    "a = Display_item_funcs_cls('Jack',18)"
   ]
  },
  {
   "cell_type": "code",
   "execution_count": 4,
   "id": "68866c16",
   "metadata": {},
   "outputs": [
    {
     "data": {
      "text/plain": [
       "{'name': 'Jack', 'age': 18}"
      ]
     },
     "execution_count": 4,
     "metadata": {},
     "output_type": "execute_result"
    }
   ],
   "source": [
    "a.__dict__"
   ]
  },
  {
   "cell_type": "code",
   "execution_count": 5,
   "id": "f2063b4a",
   "metadata": {},
   "outputs": [
    {
     "name": "stdout",
     "output_type": "stream",
     "text": [
      "Jack\n"
     ]
    }
   ],
   "source": [
    "print(a.name)"
   ]
  },
  {
   "cell_type": "code",
   "execution_count": 9,
   "id": "3de1aa1d",
   "metadata": {},
   "outputs": [],
   "source": [
    "a.sex = 'male'"
   ]
  },
  {
   "cell_type": "code",
   "execution_count": 10,
   "id": "4bf81fec",
   "metadata": {},
   "outputs": [
    {
     "data": {
      "text/plain": [
       "{'name': 'Jack', 'age': 18, 'sex': 'male'}"
      ]
     },
     "execution_count": 10,
     "metadata": {},
     "output_type": "execute_result"
    }
   ],
   "source": [
    "a.__dict__"
   ]
  },
  {
   "cell_type": "code",
   "execution_count": 12,
   "id": "c0867421",
   "metadata": {},
   "outputs": [],
   "source": [
    "del a['sex']"
   ]
  },
  {
   "cell_type": "code",
   "execution_count": 13,
   "id": "b35301d0",
   "metadata": {
    "scrolled": false
   },
   "outputs": [
    {
     "data": {
      "text/plain": [
       "{'name': 'Jack', 'age': 18}"
      ]
     },
     "execution_count": 13,
     "metadata": {},
     "output_type": "execute_result"
    }
   ],
   "source": [
    "a.__dict__"
   ]
  },
  {
   "cell_type": "code",
   "execution_count": 14,
   "id": "4aa466e7",
   "metadata": {},
   "outputs": [
    {
     "data": {
      "text/plain": [
       "'Jack'"
      ]
     },
     "execution_count": 14,
     "metadata": {},
     "output_type": "execute_result"
    }
   ],
   "source": [
    "a['name']"
   ]
  }
 ],
 "metadata": {
  "kernelspec": {
   "display_name": "Python 3",
   "language": "python",
   "name": "python3"
  },
  "language_info": {
   "codemirror_mode": {
    "name": "ipython",
    "version": 3
   },
   "file_extension": ".py",
   "mimetype": "text/x-python",
   "name": "python",
   "nbconvert_exporter": "python",
   "pygments_lexer": "ipython3",
   "version": "3.8.8"
  }
 },
 "nbformat": 4,
 "nbformat_minor": 5
}
