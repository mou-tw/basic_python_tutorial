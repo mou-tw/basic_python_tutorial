{
 "cells": [
  {
   "cell_type": "markdown",
   "id": "82fc8976",
   "metadata": {},
   "source": [
    "\\_\\_hash__<br>\n",
    "可hash()的類型必備的方法，預設是按照記憶體地址轉換，自定義hash方法，可實現訂製功能<br>\n",
    "例如 hash table"
   ]
  },
  {
   "cell_type": "code",
   "execution_count": 3,
   "id": "4fdaa746",
   "metadata": {},
   "outputs": [
    {
     "name": "stdout",
     "output_type": "stream",
     "text": [
      "7995860891527220830\n"
     ]
    }
   ],
   "source": [
    "class Display_hash_cls:\n",
    "    def __init__(self,name):\n",
    "        self.name = name\n",
    "    def __hash__(self):\n",
    "        return hash(self.name +'abc')\n",
    "b = Display_hash_cls('Jack')\n",
    "print(hash(b))"
   ]
  },
  {
   "cell_type": "code",
   "execution_count": null,
   "id": "1f19422b",
   "metadata": {},
   "outputs": [],
   "source": []
  }
 ],
 "metadata": {
  "kernelspec": {
   "display_name": "Python 3",
   "language": "python",
   "name": "python3"
  },
  "language_info": {
   "codemirror_mode": {
    "name": "ipython",
    "version": 3
   },
   "file_extension": ".py",
   "mimetype": "text/x-python",
   "name": "python",
   "nbconvert_exporter": "python",
   "pygments_lexer": "ipython3",
   "version": "3.8.8"
  }
 },
 "nbformat": 4,
 "nbformat_minor": 5
}
