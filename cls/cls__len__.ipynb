{
 "cells": [
  {
   "cell_type": "markdown",
   "id": "87c5243b",
   "metadata": {},
   "source": [
    "\\_\\_len__函數<br>\n",
    "可調用len()計算長度<br>\n",
    "也可與內置變量配合實現訂製<br>\n",
    "返回值\"必須\"為整數\n"
   ]
  },
  {
   "cell_type": "code",
   "execution_count": 18,
   "id": "d7417b69",
   "metadata": {},
   "outputs": [],
   "source": [
    "class Display_len_cls(object):\n",
    "    def __len__(self):\n",
    "        return 'wrong'"
   ]
  },
  {
   "cell_type": "code",
   "execution_count": 19,
   "id": "80dfaf15",
   "metadata": {},
   "outputs": [],
   "source": [
    "l = Display_len_cls()"
   ]
  },
  {
   "cell_type": "code",
   "execution_count": 20,
   "id": "9e12d315",
   "metadata": {},
   "outputs": [
    {
     "ename": "TypeError",
     "evalue": "'str' object cannot be interpreted as an integer",
     "output_type": "error",
     "traceback": [
      "\u001b[1;31m---------------------------------------------------------------------------\u001b[0m",
      "\u001b[1;31mTypeError\u001b[0m                                 Traceback (most recent call last)",
      "\u001b[1;32m<ipython-input-20-e75269d816bd>\u001b[0m in \u001b[0;36m<module>\u001b[1;34m\u001b[0m\n\u001b[1;32m----> 1\u001b[1;33m \u001b[0mlen\u001b[0m\u001b[1;33m(\u001b[0m\u001b[0ml\u001b[0m\u001b[1;33m)\u001b[0m\u001b[1;33m\u001b[0m\u001b[1;33m\u001b[0m\u001b[0m\n\u001b[0m",
      "\u001b[1;31mTypeError\u001b[0m: 'str' object cannot be interpreted as an integer"
     ]
    }
   ],
   "source": [
    "# get a typeerror due to the wrong return type of __len__ function\n",
    "len(l)"
   ]
  },
  {
   "cell_type": "code",
   "execution_count": 8,
   "id": "ef46e1ef",
   "metadata": {},
   "outputs": [],
   "source": [
    "import random\n",
    "class Display_len_cls(object):\n",
    "    def __len__(self):\n",
    "        return random.randint(1,10)"
   ]
  },
  {
   "cell_type": "code",
   "execution_count": 9,
   "id": "46002704",
   "metadata": {},
   "outputs": [],
   "source": [
    "l = Display_len_cls()"
   ]
  },
  {
   "cell_type": "code",
   "execution_count": 16,
   "id": "65456cdc",
   "metadata": {},
   "outputs": [
    {
     "data": {
      "text/plain": [
       "4"
      ]
     },
     "execution_count": 16,
     "metadata": {},
     "output_type": "execute_result"
    }
   ],
   "source": [
    "len(l)"
   ]
  },
  {
   "cell_type": "code",
   "execution_count": 33,
   "id": "413ae4dc",
   "metadata": {},
   "outputs": [],
   "source": [
    "# example\n",
    "class Order(object):\n",
    "    def __init__(self, name):\n",
    "        self.name = name\n",
    "        self.order_lst = []    \n",
    "    def __len__(self):\n",
    "        '''\n",
    "        返回去重後的list長度\n",
    "        '''\n",
    "        return len(list(set(self.order_lst)))\n",
    "        "
   ]
  },
  {
   "cell_type": "code",
   "execution_count": 34,
   "id": "e0b245ef",
   "metadata": {},
   "outputs": [],
   "source": [
    "myorder = Order('Jack')"
   ]
  },
  {
   "cell_type": "code",
   "execution_count": 35,
   "id": "7d267da1",
   "metadata": {},
   "outputs": [],
   "source": [
    "myorder.order_lst.append('steak')\n",
    "myorder.order_lst.append('juice')\n",
    "myorder.order_lst.append('juice')\n",
    "myorder.order_lst.append('fruit')"
   ]
  },
  {
   "cell_type": "code",
   "execution_count": 36,
   "id": "79af9c55",
   "metadata": {},
   "outputs": [
    {
     "data": {
      "text/plain": [
       "3"
      ]
     },
     "execution_count": 36,
     "metadata": {},
     "output_type": "execute_result"
    }
   ],
   "source": [
    "len(myorder)"
   ]
  },
  {
   "cell_type": "code",
   "execution_count": null,
   "id": "1ef58240",
   "metadata": {},
   "outputs": [],
   "source": []
  }
 ],
 "metadata": {
  "kernelspec": {
   "display_name": "Python 3",
   "language": "python",
   "name": "python3"
  },
  "language_info": {
   "codemirror_mode": {
    "name": "ipython",
    "version": 3
   },
   "file_extension": ".py",
   "mimetype": "text/x-python",
   "name": "python",
   "nbconvert_exporter": "python",
   "pygments_lexer": "ipython3",
   "version": "3.8.8"
  }
 },
 "nbformat": 4,
 "nbformat_minor": 5
}
